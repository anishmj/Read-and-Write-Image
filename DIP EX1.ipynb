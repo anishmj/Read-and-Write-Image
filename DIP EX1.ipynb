{
 "cells": [
  {
   "cell_type": "code",
   "execution_count": 8,
   "id": "6616f090",
   "metadata": {},
   "outputs": [
    {
     "data": {
      "text/plain": [
       "-1"
      ]
     },
     "execution_count": 8,
     "metadata": {},
     "output_type": "execute_result"
    }
   ],
   "source": [
    "import cv2\n",
    "color = cv2.imread('ex1.jpg',1)\n",
    "cv2.imshow(\"Colour\",color)\n",
    "cv2.waitKey(0)"
   ]
  },
  {
   "cell_type": "code",
   "execution_count": 9,
   "id": "40e04300",
   "metadata": {},
   "outputs": [
    {
     "data": {
      "text/plain": [
       "-1"
      ]
     },
     "execution_count": 9,
     "metadata": {},
     "output_type": "execute_result"
    }
   ],
   "source": [
    "import cv2\n",
    "gray=cv2.imread('ex1.jpg',0)\n",
    "cv2.imshow('BLACK_WHITE',gray)\n",
    "cv2.waitKey()\n",
    "\n"
   ]
  },
  {
   "cell_type": "code",
   "execution_count": 14,
   "id": "5f09b1ee",
   "metadata": {},
   "outputs": [
    {
     "name": "stdout",
     "output_type": "stream",
     "text": [
      "(467, 701, 3)\n"
     ]
    }
   ],
   "source": [
    "## SHAPE OF AN IMAGE\n",
    "import cv2\n",
    "img=cv2.imread('ex1.jpg',1)\n",
    "print(img.shape)\n"
   ]
  },
  {
   "cell_type": "code",
   "execution_count": 12,
   "id": "c4f9fd36",
   "metadata": {},
   "outputs": [
    {
     "data": {
      "text/plain": [
       "True"
      ]
     },
     "execution_count": 12,
     "metadata": {},
     "output_type": "execute_result"
    }
   ],
   "source": [
    "#WRITING AN IMAGE\n",
    "import cv2\n",
    "img=cv2.imread('ex1.jpg',1)\n",
    "cv2.imwrite('ship.jpg',img)"
   ]
  },
  {
   "cell_type": "code",
   "execution_count": 10,
   "id": "750d2523",
   "metadata": {},
   "outputs": [],
   "source": [
    "import cv2\n",
    "img=cv2.imread('ex1.jpg',-1)\n",
    "for i in range(100,250):\n",
    "    for j in range(100,500):\n",
    "        img[i][j]=[255,255,255] \n",
    "cv2.imshow('access rows & columns',img);\n",
    "cv2.waitKey(0)\n",
    "cv2.destroyAllWindows()\n",
    "    \n",
    "\n"
   ]
  },
  {
   "cell_type": "code",
   "execution_count": 13,
   "id": "ce3126c2",
   "metadata": {},
   "outputs": [],
   "source": [
    "\n",
    "import cv2\n",
    "img1=cv2.imread('ex1.jpg',-1)\n",
    "cut=img1[150:250,250:450]\n",
    "img1[100:200,200:400]=cut\n",
    "cv2.imshow('copy & paste',img1)\n",
    "cv2.waitKey(0)\n",
    "cv2.destroyAllWindows()\n"
   ]
  },
  {
   "cell_type": "code",
   "execution_count": null,
   "id": "becb74ae",
   "metadata": {},
   "outputs": [],
   "source": []
  }
 ],
 "metadata": {
  "kernelspec": {
   "display_name": "Python 3 (ipykernel)",
   "language": "python",
   "name": "python3"
  },
  "language_info": {
   "codemirror_mode": {
    "name": "ipython",
    "version": 3
   },
   "file_extension": ".py",
   "mimetype": "text/x-python",
   "name": "python",
   "nbconvert_exporter": "python",
   "pygments_lexer": "ipython3",
   "version": "3.8.12"
  }
 },
 "nbformat": 4,
 "nbformat_minor": 5
}
